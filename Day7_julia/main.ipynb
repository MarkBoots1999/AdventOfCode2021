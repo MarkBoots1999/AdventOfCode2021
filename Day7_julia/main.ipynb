{
 "cells": [
  {
   "cell_type": "markdown",
   "metadata": {},
   "source": [
    "# Day 7\n",
    "### Part 1"
   ]
  },
  {
   "cell_type": "code",
   "execution_count": 46,
   "metadata": {},
   "outputs": [],
   "source": [
    "data = parse.(Int, split(read(\"input_day7.txt\", String), ',', keepempty = false));\n",
    "positions = copy(data);"
   ]
  },
  {
   "cell_type": "code",
   "execution_count": 71,
   "metadata": {},
   "outputs": [],
   "source": [
    "min_pos = minimum(data)\n",
    "max_pos = maximum(data)\n",
    "\n",
    "sum_array = Vector{Float64}() \n",
    "#Array{Float64, 2}(undef, 0, 0)\n",
    "\n",
    "for i in min_pos:max_pos\n",
    "    difference = abs.(positions .- i)\n",
    "    append!(sum_array, sum(difference))\n",
    "    #cat(1, [sum(difference), i])\n",
    "end\n",
    "\n",
    "# sum_array = cat([1,2],[3,4],dims=(2,))"
   ]
  },
  {
   "cell_type": "code",
   "execution_count": 72,
   "metadata": {},
   "outputs": [
    {
     "data": {
      "text/plain": [
       "356922.0"
      ]
     },
     "execution_count": 72,
     "metadata": {},
     "output_type": "execute_result"
    }
   ],
   "source": [
    "minimum(sum_array)"
   ]
  },
  {
   "cell_type": "code",
   "execution_count": 39,
   "metadata": {},
   "outputs": [
    {
     "data": {
      "text/plain": [
       "362"
      ]
     },
     "execution_count": 39,
     "metadata": {},
     "output_type": "execute_result"
    }
   ],
   "source": [
    "findfirst(x-> x == minimum(sum_array), sum_array)"
   ]
  },
  {
   "cell_type": "markdown",
   "metadata": {},
   "source": [
    "### Part 2"
   ]
  },
  {
   "cell_type": "code",
   "execution_count": 73,
   "metadata": {},
   "outputs": [
    {
     "data": {
      "text/plain": [
       "100347031"
      ]
     },
     "execution_count": 73,
     "metadata": {},
     "output_type": "execute_result"
    }
   ],
   "source": [
    "sum_array_2 = Vector{Float64}()\n",
    "\n",
    "for i in min_pos:max_pos\n",
    "    # Define or reset inter_sum vector\n",
    "    inter_sum = Vector{Float64}()\n",
    "\n",
    "    for j in positions\n",
    "        difference = abs(j - i)\n",
    "        result = sum(1:difference)\n",
    "        push!(inter_sum, result)\n",
    "    end\n",
    "    push!(sum_array_2, sum(inter_sum))\n",
    "end\n",
    "\n",
    "Int(minimum(sum_array_2))"
   ]
  }
 ],
 "metadata": {
  "kernelspec": {
   "display_name": "Julia 1.4.1",
   "language": "julia",
   "name": "julia-1.4"
  },
  "language_info": {
   "file_extension": ".jl",
   "mimetype": "application/julia",
   "name": "julia",
   "version": "1.4.1"
  },
  "orig_nbformat": 4
 },
 "nbformat": 4,
 "nbformat_minor": 2
}
